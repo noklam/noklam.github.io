{
 "cells": [
  {
   "attachments": {},
   "cell_type": "markdown",
   "id": "c97b8b49",
   "metadata": {},
   "source": [
    "---\n",
    "badges: true\n",
    "categories:\n",
    "- python\n",
    "date: '2022-11-16'\n",
    "description: 'Using singledispatch with type hint'\n",
    "output-file: python-dispatch-typehint.html\n",
    "title: 'Function overloading - singledispatch in Python with type hint'\n",
    "toc: true\n",
    "\n",
    "---"
   ]
  },
  {
   "cell_type": "markdown",
   "id": "e898b78f",
   "metadata": {},
   "source": [
    "With Python>=3.7, the `@singledispatch` method can now understand the type hints. It behaves like function overloading but it's more dynamic than the static langauge.\n",
    "\n",
    "Here is a quick example to demonstrate it."
   ]
  },
  {
   "cell_type": "code",
   "execution_count": null,
   "id": "a68f4559",
   "metadata": {},
   "outputs": [],
   "source": [
    "from functools import singledispatch\n",
    "\n",
    "@singledispatch\n",
    "def foo(x):\n",
    "    print(\"foo\")"
   ]
  },
  {
   "cell_type": "code",
   "execution_count": null,
   "id": "abd8593c",
   "metadata": {},
   "outputs": [],
   "source": [
    "@foo.register\n",
    "def _(x: float):\n",
    "    print(\"It's a float\")\n",
    "\n",
    "\n",
    "@foo.register\n",
    "def _(x: str):\n",
    "    print(\"It's a string now!\")"
   ]
  },
  {
   "cell_type": "markdown",
   "id": "e22be4b5",
   "metadata": {},
   "source": [
    "Let's see how it works."
   ]
  },
  {
   "cell_type": "code",
   "execution_count": null,
   "id": "ccc4aebb",
   "metadata": {},
   "outputs": [
    {
     "name": "stdout",
     "output_type": "stream",
     "text": [
      "foo\n"
     ]
    }
   ],
   "source": [
    "foo(1)"
   ]
  },
  {
   "cell_type": "code",
   "execution_count": null,
   "id": "5e7e521a",
   "metadata": {},
   "outputs": [
    {
     "name": "stdout",
     "output_type": "stream",
     "text": [
      "It's a float\n"
     ]
    }
   ],
   "source": [
    "foo(1.0)"
   ]
  },
  {
   "cell_type": "code",
   "execution_count": null,
   "id": "b60ad07e",
   "metadata": {},
   "outputs": [
    {
     "name": "stdout",
     "output_type": "stream",
     "text": [
      "It's a string now!\n"
     ]
    }
   ],
   "source": [
    "foo(\"1\")"
   ]
  },
  {
   "cell_type": "markdown",
   "id": "ede20324",
   "metadata": {},
   "source": [
    "The function `foo` now understand the type of the argument and dispatch the corresponding functions. This is nicer than a big chunk of `if/else` statement since it's less couple. It's also easy to extend this. Imagine the `foo` function is import from a package, it's easy to extend it."
   ]
  },
  {
   "cell_type": "code",
   "execution_count": null,
   "id": "6a90fba8",
   "metadata": {},
   "outputs": [
    {
     "name": "stdout",
     "output_type": "stream",
     "text": [
      "Nok\n"
     ]
    }
   ],
   "source": [
    "# Imagine `foo` was imported from a package\n",
    "# Now that you have a special type and you want to extend it from your own library, you don't need to touch the source code at all.\n",
    "\n",
    "# from bar import foo\n",
    "class Nok:\n",
    "    ...\n",
    "\n",
    "\n",
    "@foo.register\n",
    "def _(x: Nok):\n",
    "    print(\"Nok\")\n",
    "\n",
    "\n",
    "nok = Nok()\n",
    "foo(nok)"
   ]
  },
  {
   "cell_type": "markdown",
   "id": "674a3267",
   "metadata": {},
   "source": [
    "This is only possible because Python is a dynamic language. In contrast, to achieve the same functionalities with monkey patching, you would need to copy the source code of the function and extend the `if/else` block."
   ]
  },
  {
   "cell_type": "markdown",
   "id": "29d14ae5",
   "metadata": {},
   "source": [
    "Let's dive a bit deeper to the decorator."
   ]
  },
  {
   "cell_type": "code",
   "execution_count": null,
   "id": "9ac75b9e",
   "metadata": {},
   "outputs": [
    {
     "name": "stdout",
     "output_type": "stream",
     "text": [
      "['dispatch', 'register', 'registry']\n"
     ]
    }
   ],
   "source": [
    "print([attr for attr in dir(foo) if not attr.startswith(\"_\")])"
   ]
  },
  {
   "cell_type": "code",
   "execution_count": null,
   "id": "21b8ed96",
   "metadata": {},
   "outputs": [
    {
     "data": {
      "text/plain": [
       "<function functools.singledispatch.<locals>.dispatch(cls)>"
      ]
     },
     "execution_count": null,
     "metadata": {},
     "output_type": "execute_result"
    }
   ],
   "source": [
    "foo.dispatch"
   ]
  },
  {
   "cell_type": "code",
   "execution_count": null,
   "id": "af70f045",
   "metadata": {},
   "outputs": [
    {
     "data": {
      "text/plain": [
       "<function functools.singledispatch.<locals>.register(cls, func=None)>"
      ]
     },
     "execution_count": null,
     "metadata": {},
     "output_type": "execute_result"
    }
   ],
   "source": [
    "foo.register"
   ]
  },
  {
   "cell_type": "code",
   "execution_count": null,
   "id": "2ca5999d",
   "metadata": {},
   "outputs": [
    {
     "data": {
      "text/plain": [
       "mappingproxy({object: <function __main__.foo(x)>,\n",
       "              float: <function __main__._(x: float)>,\n",
       "              str: <function __main__._(x: str)>,\n",
       "              __main__.Nok: <function __main__._(x: __main__.Nok)>,\n",
       "              __main__.Nok: <function __main__._(x: __main__.Nok)>})"
      ]
     },
     "execution_count": null,
     "metadata": {},
     "output_type": "execute_result"
    }
   ],
   "source": [
    "foo.registry"
   ]
  },
  {
   "cell_type": "code",
   "execution_count": null,
   "id": "f70cc8f9",
   "metadata": {},
   "outputs": [],
   "source": [
    "from collections import abc\n",
    "isinstance(foo.registry, abc.Mapping)"
   ]
  },
  {
   "cell_type": "markdown",
   "id": "c7f15bf6",
   "metadata": {},
   "source": [
    "The `foo.registry` is the most interesting part. Basically, it's a dictionary-like object which store the types. It behaves like\n",
    "```python\n",
    "if type(x) == \"int\":\n",
    "    do_something()\n",
    "elif type(x) == \"float\":\n",
    "    do_somthing_else()\n",
    "else:\n",
    "    do_this_instead()\n",
    "```"
   ]
  }
 ],
 "metadata": {
  "kernelspec": {
   "display_name": "Kedro",
   "language": "python",
   "name": "kedro"
  },
  "language_info": {
   "name": "python",
   "version": "3.8.5"
  }
 },
 "nbformat": 4,
 "nbformat_minor": 5
}
