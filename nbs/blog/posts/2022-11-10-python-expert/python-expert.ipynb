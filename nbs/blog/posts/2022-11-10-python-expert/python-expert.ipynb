{
 "cells": [
  {
   "cell_type": "markdown",
   "metadata": {},
   "source": [
    "---\n",
    "badges: true\n",
    "categories:\n",
    "- python\n",
    "date: '2022-11-10'\n",
    "description: 'Notes for the talk - James Powell: So you want to be a Python expert? | PyData Seattle 2017'\n",
    "hide: false\n",
    "output-file: python-expert-decorator-generator-contextmanager.html\n",
    "title: 'Being Python Expert' \n",
    "toc: true\n",
    "\n",
    "---"
   ]
  },
  {
   "cell_type": "markdown",
   "metadata": {},
   "source": [
    "{{< video https://www.youtube.com/embed/cKPlPJyQrt4 >}}"
   ]
  },
  {
   "cell_type": "markdown",
   "metadata": {},
   "source": [
    "This presentation introduce three concepts, `decorator`, `generator` and `contextmanager`. The presenter explains that Python is a Protocol oriented langauge brilliantly and put these three concepts together to illustrate a story. Ultimately, being a Python expert doesn't mean that you write advance syntax, but using these pattern wisely with simple code. These three concepts both serves its own puprose and are orthogonal to each other, yet working nicely when they are composed together."
   ]
  },
  {
   "cell_type": "markdown",
   "metadata": {},
   "source": [
    "## Meet the Python Data Model\n",
    "With python, there are almost always a lower level `__` method corresponds to a higher-level function/syntax. It's useful to change these behavior and understand how the Python Data Model work.\n",
    "You can find all the dunder `__` method here. https://docs.python.org/3/reference/datamodel.html\n",
    "```python \n",
    " x + y   --> __add__\n",
    " repr(s) --> __repr__\n",
    " x()     --> __call__\n",
    "```"
   ]
  },
  {
   "cell_type": "code",
   "execution_count": null,
   "metadata": {},
   "outputs": [],
   "source": [
    "## Metaclasses\n",
    "`metaclass` exists to allow library code works nicely with user code. For example, how can a library author ensure that its user will follow its protocol and not using it wrongly? Again you can dive into `__new__` for ensuring that. In practice, the code is already written for `abc` and people use `@abstractmethod` `abc.ABCMeta`"
   ]
  },
  {
   "cell_type": "code",
   "execution_count": 2,
   "metadata": {},
   "outputs": [
    {
     "ename": "TypeError",
     "evalue": "__build_class__: not enough arguments",
     "output_type": "error",
     "traceback": [
      "\u001b[0;31m---------------------------------------------------------------------------\u001b[0m",
      "\u001b[0;31mTypeError\u001b[0m                                 Traceback (most recent call last)",
      "Cell \u001b[0;32mIn [2], line 11\u001b[0m\n\u001b[1;32m      8\u001b[0m Nok() \u001b[38;5;66;03m# This is possible because class is a Python keyword\u001b[39;00m\n\u001b[1;32m     10\u001b[0m \u001b[38;5;66;03m# You can actually construct a class with a function.\u001b[39;00m\n\u001b[0;32m---> 11\u001b[0m \u001b[43mbuiltins\u001b[49m\u001b[38;5;241;43m.\u001b[39;49m\u001b[43m__build_class__\u001b[49m\u001b[43m(\u001b[49m\u001b[38;5;124;43m\"\u001b[39;49m\u001b[38;5;124;43mNok\u001b[39;49m\u001b[38;5;124;43m\"\u001b[39;49m\u001b[43m)\u001b[49m\n",
      "\u001b[0;31mTypeError\u001b[0m: __build_class__: not enough arguments"
     ]
    }
   ],
   "source": [
    "# Meet the `__builtins__` library\n",
    "import builtins\n",
    "__build_class__\n",
    "\n",
    "class Nok:\n",
    "    pass\n",
    "\n",
    "Nok() # This is possible because class is a Python keyword\n",
    "\n",
    "# You can actually construct a class with a function.\n",
    "builtins.__build_class__(\"Nok\")"
   ]
  },
  {
   "cell_type": "markdown",
   "metadata": {},
   "source": [
    "## Generator\n",
    "* Eager vs Lazy\n",
    "* Process when data comes - memory efficient and no wait. \n",
    "* `yield` control - interleaving. Idea of executing some code, then passing the output back to user, do something and continue.\n"
   ]
  },
  {
   "cell_type": "code",
   "execution_count": 6,
   "metadata": {},
   "outputs": [
    {
     "name": "stdout",
     "output_type": "stream",
     "text": [
      "Create Table\n",
      "Finish\n",
      "Drop Table\n"
     ]
    }
   ],
   "source": [
    "def temptable(cur):\n",
    "    print(\"Create Table\")\n",
    "    yield\n",
    "    print(\"Drop Table\")\n",
    "\n",
    "\n",
    "class T:\n",
    "    def __enter__(self):\n",
    "        self.gen = temptable(\"123\")\n",
    "        next(self.gen)\n",
    "        return self\n",
    "\n",
    "    def __exit__(self, *args):\n",
    "        return next(self.gen, None)\n",
    "\n",
    "with T():\n",
    "    print(\"Finish\")\n",
    "\n"
   ]
  },
  {
   "cell_type": "code",
   "execution_count": null,
   "metadata": {},
   "outputs": [],
   "source": []
  }
 ],
 "metadata": {
  "kernelspec": {
   "display_name": "Python 3.9.14 64-bit",
   "language": "python",
   "name": "python3"
  },
  "language_info": {
   "codemirror_mode": {
    "name": "ipython",
    "version": 3
   },
   "file_extension": ".py",
   "mimetype": "text/x-python",
   "name": "python",
   "nbconvert_exporter": "python",
   "pygments_lexer": "ipython3",
   "version": "3.9.14"
  },
  "toc": {
   "base_numbering": 1,
   "nav_menu": {},
   "number_sections": true,
   "sideBar": true,
   "skip_h1_title": false,
   "title_cell": "Table of Contents",
   "title_sidebar": "Contents",
   "toc_cell": false,
   "toc_position": {},
   "toc_section_display": true,
   "toc_window_display": true
  },
  "varInspector": {
   "cols": {
    "lenName": 16,
    "lenType": 16,
    "lenVar": 40
   },
   "kernels_config": {
    "python": {
     "delete_cmd_postfix": "",
     "delete_cmd_prefix": "del ",
     "library": "var_list.py",
     "varRefreshCmd": "print(var_dic_list())"
    },
    "r": {
     "delete_cmd_postfix": ") ",
     "delete_cmd_prefix": "rm(",
     "library": "var_list.r",
     "varRefreshCmd": "cat(var_dic_list()) "
    }
   },
   "types_to_exclude": [
    "module",
    "function",
    "builtin_function_or_method",
    "instance",
    "_Feature"
   ],
   "window_display": false
  },
  "vscode": {
   "interpreter": {
    "hash": "397704579725e15f5c7cb49fe5f0341eb7531c82d19f2c29d197e8b64ab5776b"
   }
  }
 },
 "nbformat": 4,
 "nbformat_minor": 4
}
