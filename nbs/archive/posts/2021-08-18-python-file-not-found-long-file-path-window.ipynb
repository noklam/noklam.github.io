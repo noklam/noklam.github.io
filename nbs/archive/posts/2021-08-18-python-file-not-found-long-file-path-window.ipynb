{
 "cells": [
  {
   "cell_type": "raw",
   "metadata": {},
   "source": [
    "---\n",
    "aliases:\n",
    "- /python/2021/08/18/python-file-not-found-long-file-path-window\n",
    "author: noklam\n",
    "badges: true\n",
    "categories:\n",
    "- python\n",
    "date: '2021-08-18'\n",
    "description: Today I encountered an interesting bug that I think it is worth to write\n",
    "  it down for my future self.\n",
    "hide: false\n",
    "output-file: 2021-08-18-python-file-not-found-long-file-path-window.html\n",
    "title: Python FileNotFoundError or You have a really long file path?\n",
    "toc: true\n",
    "\n",
    "---\n",
    "\n"
   ]
  },
  {
   "cell_type": "markdown",
   "metadata": {},
   "source": [
    "# FileNotFoundError? Not so quick"
   ]
  },
  {
   "cell_type": "markdown",
   "metadata": {},
   "source": [
    "![screenshot](images/file_not_found/01.jpg \"The sample file (Left), and a script to read this file (Right)\")\r\n",
    "\r\n",
    "To illustrate the issue, I perpared some fake file. The script is simple, it just read a file with plain text, except that the filename is really long."
   ]
  },
  {
   "cell_type": "markdown",
   "metadata": {},
   "source": [
    "![error](images/file_not_found/02_error.jpg \"FileNotFoundError\")\r\n",
    "\r\n",
    "Unforuntately, even though the file exists, `Python` gives me a `FileNotFoundError`, how come? However long debugging, I found out that this is related to the filename that exist only on Windows.\r\n",
    "\r\n"
   ]
  },
  {
   "cell_type": "markdown",
   "metadata": {},
   "source": [
    "This [StackOverflow thread](https://stackoverflow.com/questions/36219317/pathname-too-long-to-open) explain this issue.\r\n",
    "\r\n",
    "> **Maximum Path Length Limitation**  \r\n",
    "> In the Windows API (with some exceptions discussed in the following paragraphs), the maximum length for a path is **MAX_PATH**, which is defined as 260 characters. A local path is structured in the following order: drive letter, colon, backslash, name components separated by backslashes, and a terminating null character. For example, the maximum path on drive D is \"D:\\*some 256-character path string*<NUL>\" where \"<NUL>\" represents the invisible terminating null character for the current system codepage. (The characters < > are used here for visual clarity and cannot be part of a valid path string.)"
   ]
  },
  {
   "cell_type": "markdown",
   "metadata": {},
   "source": [
    "# Solution - Registry"
   ]
  },
  {
   "cell_type": "markdown",
   "metadata": {},
   "source": [
    "Updating your [Registry](https://lifehacker.com/windows-10-allows-file-names-longer-than-260-characters-1785201032) can solve this problem.\r\n",
    "\r\n",
    "![Hello World](images/file_not_found/03_error.jpg \"The file can be read after updating the registry to enable long file path\")\r\n",
    "\r\n",
    "After applying the config, I can finally read the file. :)"
   ]
  },
  {
   "cell_type": "markdown",
   "metadata": {},
   "source": [
    "# Summary (TLDR version)\r\n",
    "* Window filesystem only allow 256 characters, beyond that you will have trouble to open the file. \r\n",
    "* Python will not be able to see this file and throw `FileNotFoundError` (I have no idea, anyone know why is that?)\r\n",
    "* You can update registry to enable long file path in Window to fix this issue.\r\n",
    "\r\n",
    "(Bonus: Window actually has weird behavior for long filepath, you can try to break it with different ways.)"
   ]
  }
 ],
 "metadata": {
  "interpreter": {
   "hash": "ecf5722fdaf1897a315d257d89d94520bfcaa453217d5becf09b39e73618b0de"
  },
  "jupytext": {
   "encoding": "# -*- coding: utf-8 -*-",
   "formats": "ipynb,py:light"
  },
  "kernelspec": {
   "display_name": "Python 3.8.3 64-bit ('base': conda)",
   "name": "python3"
  },
  "language_info": {
   "codemirror_mode": {
    "name": "ipython",
    "version": 3
   },
   "file_extension": ".py",
   "mimetype": "text/x-python",
   "name": "python",
   "nbconvert_exporter": "python",
   "pygments_lexer": "ipython3",
   "version": "3.8.3"
  },
  "toc": {
   "base_numbering": 1,
   "nav_menu": {},
   "number_sections": false,
   "sideBar": true,
   "skip_h1_title": false,
   "title_cell": "Table of Contents",
   "title_sidebar": "Contents",
   "toc_cell": false,
   "toc_position": {},
   "toc_section_display": true,
   "toc_window_display": true
  },
  "varInspector": {
   "cols": {
    "lenName": 16,
    "lenType": 16,
    "lenVar": 40
   },
   "kernels_config": {
    "python": {
     "delete_cmd_postfix": "",
     "delete_cmd_prefix": "del ",
     "library": "var_list.py",
     "varRefreshCmd": "print(var_dic_list())"
    },
    "r": {
     "delete_cmd_postfix": ") ",
     "delete_cmd_prefix": "rm(",
     "library": "var_list.r",
     "varRefreshCmd": "cat(var_dic_list()) "
    }
   },
   "types_to_exclude": [
    "module",
    "function",
    "builtin_function_or_method",
    "instance",
    "_Feature"
   ],
   "window_display": false
  }
 },
 "nbformat": 4,
 "nbformat_minor": 2
}
